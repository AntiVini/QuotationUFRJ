{
  "nbformat": 4,
  "nbformat_minor": 0,
  "metadata": {
    "colab": {
      "name": "EmailProvider.ipynb",
      "provenance": [],
      "mount_file_id": "1RjMHkYYJ1__2tGOQG98ctbk0vHYXICoZ",
      "authorship_tag": "ABX9TyNC/bIC4OfZDeYdTuMfIhDU",
      "include_colab_link": true
    },
    "kernelspec": {
      "name": "python3",
      "display_name": "Python 3"
    },
    "language_info": {
      "name": "python"
    }
  },
  "cells": [
    {
      "cell_type": "markdown",
      "metadata": {
        "id": "view-in-github",
        "colab_type": "text"
      },
      "source": [
        "<a href=\"https://colab.research.google.com/github/AntiVini/QuotationUFRJ/blob/my-emailprovider/EmailProvider.ipynb\" target=\"_parent\"><img src=\"https://colab.research.google.com/assets/colab-badge.svg\" alt=\"Open In Colab\"/></a>"
      ]
    },
    {
      "cell_type": "markdown",
      "metadata": {
        "id": "cj_WnQ-KeED-"
      },
      "source": [
        "Challenge: Create a program that send emails to providers automatically.\n",
        "\n",
        "Logical steps:\n",
        "\n",
        "\n",
        "1.   Import all the worksheets of e-mails;\n",
        "2.   Create a single worksheet that contains all the distinct e-mails;\n",
        "3.   Create an e-mail to all my providers;\n",
        "4.   Send e-mail.\n",
        "\n",
        "\n",
        "\n",
        "\n"
      ]
    },
    {
      "cell_type": "markdown",
      "metadata": {
        "id": "_YhTp9OBcXBe"
      },
      "source": [
        "Step 1 and 2: Import and create a single worksheet with the distincts e-mails. "
      ]
    },
    {
      "cell_type": "code",
      "metadata": {
        "id": "iCRLWEOXcA5d"
      },
      "source": [
        "import os.path\n",
        "import pandas as pd\n",
        "\n",
        "\n",
        "def email_distinct(path):\n",
        "    if not os.path.isfile(r\"/content/drive/MyDrive/Colab Notebooks/email_list.xlsx\"):\n",
        "        df = pd.DataFrame(columns=[\"e-mail\"])\n",
        "        df.to_excel(r\"/content/drive/MyDrive/Colab Notebooks/email_list.xlsx\")\n",
        "    \n",
        "    email_worksheet = pd.read_excel(path)  # Import database\n",
        "    df1 = pd.read_excel(r\"/content/drive/MyDrive/Colab Notebooks/email_list.xlsx\")\n",
        "    df1 = df1.drop([\"Unnamed: 0\"], axis=1)\n",
        "\n",
        "    for email in email_worksheet[\"e-mail\"]:  # Step 2: Create a worksheet with distinct e-mails.\n",
        "        email = email.replace(\"['\", \"\").replace(\"']\", \"\")\n",
        "        \n",
        "        if email not in df1[\"e-mail\"]:\n",
        "            df1 = df1.append({'e-mail':email}, ignore_index=True)   \n",
        "    \n",
        "    df1.to_excel(r\"/content/drive/MyDrive/Colab Notebooks/email_list.xlsx\")\n",
        "\n",
        "\n",
        "# auto_send('/content/drive/MyDrive/Colab Notebooks/list_email_item_2.xlsx')"
      ],
      "execution_count": null,
      "outputs": []
    },
    {
      "cell_type": "markdown",
      "metadata": {
        "id": "LV3iLyeddUPq"
      },
      "source": [
        "Step 2: Create and send a standard e-mail."
      ]
    },
    {
      "cell_type": "code",
      "metadata": {
        "id": "uHKByiYrdmzZ"
      },
      "source": [
        "def auto_send(path_ws):\n",
        "    "
      ],
      "execution_count": null,
      "outputs": []
    },
    {
      "cell_type": "code",
      "metadata": {
        "colab": {
          "base_uri": "https://localhost:8080/",
          "height": 49
        },
        "id": "TsMPMBMUiir8",
        "outputId": "a56ab694-609f-4ec3-ff4a-0ef9185700b0"
      },
      "source": [
        "df2 = pd.DataFrame(columns=[\"e-mail\"])\n",
        "display(df2)"
      ],
      "execution_count": 8,
      "outputs": [
        {
          "output_type": "display_data",
          "data": {
            "text/html": [
              "<div>\n",
              "<style scoped>\n",
              "    .dataframe tbody tr th:only-of-type {\n",
              "        vertical-align: middle;\n",
              "    }\n",
              "\n",
              "    .dataframe tbody tr th {\n",
              "        vertical-align: top;\n",
              "    }\n",
              "\n",
              "    .dataframe thead th {\n",
              "        text-align: right;\n",
              "    }\n",
              "</style>\n",
              "<table border=\"1\" class=\"dataframe\">\n",
              "  <thead>\n",
              "    <tr style=\"text-align: right;\">\n",
              "      <th></th>\n",
              "      <th>e-mail</th>\n",
              "    </tr>\n",
              "  </thead>\n",
              "  <tbody>\n",
              "  </tbody>\n",
              "</table>\n",
              "</div>"
            ],
            "text/plain": [
              "Empty DataFrame\n",
              "Columns: [e-mail]\n",
              "Index: []"
            ]
          },
          "metadata": {
            "tags": []
          }
        }
      ]
    }
  ]
}