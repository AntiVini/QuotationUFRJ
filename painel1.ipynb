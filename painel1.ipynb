{
  "nbformat": 4,
  "nbformat_minor": 0,
  "metadata": {
    "colab": {
      "name": "painel1.ipynb",
      "provenance": [],
      "mount_file_id": "1nfy7T_8XzCTyTax7oZPTgamkl_qwQcR3",
      "authorship_tag": "ABX9TyOdfbI22EhpabLyNRjKX5Pw",
      "include_colab_link": true
    },
    "kernelspec": {
      "name": "python3",
      "display_name": "Python 3"
    }
  },
  "cells": [
    {
      "cell_type": "markdown",
      "metadata": {
        "id": "view-in-github",
        "colab_type": "text"
      },
      "source": [
        "<a href=\"https://colab.research.google.com/github/AntiVini/QuotationUFRJ/blob/main/painel1.ipynb\" target=\"_parent\"><img src=\"https://colab.research.google.com/assets/colab-badge.svg\" alt=\"Open In Colab\"/></a>"
      ]
    },
    {
      "cell_type": "code",
      "metadata": {
        "id": "io8DPzJUS0ay"
      },
      "source": [
        "# Passos 1 a 3 - Importar e editar a tabela de dados\n",
        "\n",
        "def valores_painel(caminho, item):\n",
        "  import pandas as pd\n",
        "\n",
        "  painel = pd.read_excel(caminho)\n",
        "  print(len(painel))\n",
        "  display(painel)\n",
        "\n",
        "  if (len(painel) - 4) >= 5:\n",
        "    tamanho = 5\n",
        "  else:\n",
        "    tamanho = len(painel)\n",
        "  \n",
        "  # Editar a coluna UASG\n",
        "  for i in range(tamanho):\n",
        "    painel['Unnamed: 10'][i+4] = painel['Unnamed: 10'][i+4][0:5]\n",
        "    painel['Unnamed: 7'][i+4] = float(painel['Unnamed: 7'][i+4].replace(',', '.'))\n",
        "\n",
        "  # Listas dos valores úteis\n",
        "  id = list(painel['Tipo painel:'][4:tamanho+4])\n",
        "  num = list(painel['MATERIAIS'][4:tamanho+4])\n",
        "  catmat = list(painel['Unnamed: 3'][4:tamanho+4])\n",
        "  valor = list(painel['Unnamed: 7'][4:tamanho+4])\n",
        "  uasg = list(painel['Unnamed: 10'][4:tamanho+4])\n",
        "  unidade = painel['MATERIAIS'][2][26:]\n",
        "  codigo = painel['Unnamed: 2'][2][26:]\n",
        "  # Passo 4 - Importar a tabela do mapa de apuração\n",
        "  apuracao = pd.read_excel('/content/drive/MyDrive/Colab Notebooks/Cópia de PP - Anexo V.xlsx')\n",
        "  apuracao = apuracao.drop(['Unnamed: 0'], axis=1)\n",
        "  \n",
        "  for i in range(tamanho):\n",
        "    apuracao.loc[6+4*(item-2)][i+5] = 'UASG: ' + uasg[i] \n",
        "    apuracao.loc[7+4*(item-2)][i+5] = f'CERTAME: {id[i]} ITEM: {num[i]}'\n",
        "    apuracao.loc[8+4*(item-2)][i+5] = valor[i]\n",
        "  \n",
        "  apuracao.loc[5+4*(item-2)][2] = codigo\n",
        "  apuracao.loc[5+4*(item-2)][3] = unidade\n",
        "  item_catmat = painel.loc[4]['Unnamed: 4']\n",
        "\n",
        "  # Passo 5 - Salvar as alterações da tabela\n",
        "  \n",
        "  apuracao.to_excel(r'/content/drive/MyDrive/Colab Notebooks/Cópia de PP - Anexo V.xlsx')\n",
        "  \n",
        "  return item_catmat, unidade\n"
      ],
      "execution_count": null,
      "outputs": []
    }
  ]
}