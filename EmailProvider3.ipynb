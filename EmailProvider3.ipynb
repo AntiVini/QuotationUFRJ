{
  "nbformat": 4,
  "nbformat_minor": 0,
  "metadata": {
    "colab": {
      "name": "EmailProvider3.ipynb",
      "provenance": [],
      "mount_file_id": "1RjMHkYYJ1__2tGOQG98ctbk0vHYXICoZ",
      "authorship_tag": "ABX9TyO1WNfizDGRcvVLCIMCB3F7",
      "include_colab_link": true
    },
    "kernelspec": {
      "name": "python3",
      "display_name": "Python 3"
    },
    "language_info": {
      "name": "python"
    }
  },
  "cells": [
    {
      "cell_type": "markdown",
      "metadata": {
        "id": "view-in-github",
        "colab_type": "text"
      },
      "source": [
        "<a href=\"https://colab.research.google.com/github/AntiVini/QuotationUFRJ/blob/my-emailprovider/EmailProvider3.ipynb\" target=\"_parent\"><img src=\"https://colab.research.google.com/assets/colab-badge.svg\" alt=\"Open In Colab\"/></a>"
      ]
    },
    {
      "cell_type": "markdown",
      "metadata": {
        "id": "cj_WnQ-KeED-"
      },
      "source": [
        "Challenge: Create a program that send emails to providers automatically.\n",
        "\n",
        "Logical steps:\n",
        "\n",
        "\n",
        "1.   Import all the worksheets of e-mails;\n",
        "2.   Create a single worksheet that contains all the distinct e-mails;\n",
        "3.   Create an e-mail to all my providers;\n",
        "4.   Send e-mail.\n",
        "\n",
        "\n",
        "\n",
        "\n"
      ]
    },
    {
      "cell_type": "markdown",
      "metadata": {
        "id": "_YhTp9OBcXBe"
      },
      "source": [
        "Step 1 and 2: "
      ]
    },
    {
      "cell_type": "code",
      "metadata": {
        "id": "iCRLWEOXcA5d"
      },
      "source": [
        "import os.path\n",
        "import pandas as pd\n",
        "\n",
        "\n",
        "def email_distinct(path):\n",
        "    if not os.path.isfile(r\"/content/drive/MyDrive/Colab Notebooks/email_list.xlsx\"):\n",
        "        df = pd.DataFrame(columns=[\"e-mail\"])\n",
        "        df.to_excel(r\"/content/drive/MyDrive/Colab Notebooks/email_list.xlsx\")\n",
        "    \n",
        "    email_worksheet = pd.read_excel(path)  # Import database\n",
        "    df1 = pd.read_excel(r\"/content/drive/MyDrive/Colab Notebooks/email_list.xlsx\")\n",
        "    df1 = df1.drop([\"Unnamed: 0\"], axis=1)\n",
        "\n",
        "    for email in email_worksheet[\"e-mail\"]:  # Step 2: Create a worksheet with distinct e-mails.\n",
        "        email = email.replace(\"['\", \"\").replace(\"']\", \"\")\n",
        "        \n",
        "        if email not in df1[\"e-mail\"]:\n",
        "            df1 = df1.append({'e-mail':email.replace(\"'\", \"\")}, ignore_index=True)   \n",
        "    \n",
        "    df1.to_excel(r\"/content/drive/MyDrive/Colab Notebooks/email_list.xlsx\")\n",
        "\n",
        "    pass\n"
      ],
      "execution_count": null,
      "outputs": []
    },
    {
      "cell_type": "markdown",
      "metadata": {
        "id": "LV3iLyeddUPq"
      },
      "source": [
        "Step 3 and 4:"
      ]
    },
    {
      "cell_type": "code",
      "metadata": {
        "id": "wiN6cOY6Q83P"
      },
      "source": [
        "from email.mime.multipart import MIMEMultipart\n",
        "from email.mime.text import MIMEText\n",
        "import smtplib, ssl, mimetypes, email.mime.application, pandas as pd\n",
        "\n",
        "def auto_send(process, path):\n",
        "    msg = MIMEMultipart()\n",
        "    port = 587\n",
        "    smtp_server = \"vmail.tic.ufrj.br\"\n",
        "    password = input(\"Type your password and press enter: \")\n",
        "    me = \"cotacao@pr6.ufrj.br\"\n",
        "    \"\"\"to = exempleto@mail.com\n",
        "    cc = exemplecopy@mail.com\"\"\"\n",
        "    bcc = pd.read_excel(path)\n",
        "    rcpt = list(bcc[\"e-mail\"])\n",
        "    msg['Subject'] = f\"Solicitação de Proposta Comercial {process}\"\n",
        "    msg['From'] = me\n",
        "    body = MIMEText(f\"Prezados, \\n\\n    Venho por meio deste solicitar proposta comercial para prestação de serviços, conforme previsto no Termo de Referência em anexo.\\n\\n    As empresas interessadas deverão responder esse e-mail com a proposta comercial até o dia 30/03/2021.\\n\\n    Solicitamos que as propostas sejam enviadas nas seguintes especificações:\\n\\n    · A proposta deverá ser emitida em papel timbrado ou no modelo anexo;\\n\\n    · A proposta deverá ter informações do contato com telefone, endereço e correio eletrônico;\\n\\n    · A proposta deverá conter a data emissão;\\n\\n   · Validade da proposta: 60 dias;\\n\\n   · A proposta deverá ter o valor total do serviço já computando as despesas com os tributos previstos em lei;\\n\\n   · No valor de cada item deve estar contido todos os custos diretos e indiretos;\\n\\n   · A proposta deverá conter nº do CNPJ;\\n\\n   · A proposta deverá ter informação de pagamento contra empenho;\\n\\n   Obs.: A empresa vencedora deverá ter cadastro no SICAF ou ter as certidões negativa do INSS, FGTS, Receita Federal e Débitos Trabalhistas válidas.\\n\\n   Obs. 2: Para maiores informações entrar em contato através do correio eletrônico: cotacao@pr6.ufrj.br.\\n\\n   Caso sua empresa não tenha interesse em apresentar proposta para o objeto solicitado, peço a gentileza de enviar, via e-mail, as razões da recusa.\\n\\n   Atenciosamente,\\n\\n   Antonio Vinicius de Souza Alves\\n\\n   --\\n\\n   Universidade Federal do Rio de Janeiro\\n   CNPJ 33.663.683/0001-16\\n   Pró Reitoria de Gestão e Governança - PR-6\\n   Rua Aloísio Teixeira, 278, Prédio 5, Parque Tecnológico - Cidade Universitária - RJ – CEP: 21941-850\")\n",
        "    msg.attach(body)\n",
        "\n",
        "    # Attachment document\n",
        "    file_path_tem = \"/content/drive/MyDrive/Colab Notebooks/ProposalTemplate.docx\"\n",
        "    file_path_tr = \"/content/drive/MyDrive/Colab Notebooks/termo de referencia.pdf\"\n",
        "    template = open(file_path_tem, 'rb')\n",
        "    reference = open(file_path_tr, 'rb')\n",
        "    attachment_tem = email.mime.application.MIMEApplication(template.read(), _subtype=\"docx\")\n",
        "    attachment_tr = email.mime.application.MIMEApplication(reference.read(), _subtype=\"pdf\")\n",
        "    template.close()\n",
        "    reference.close()\n",
        "    attachment_tem.add_header('Content-Disposition','attachment',filename=\"Modelo_de_Proposta.docx\")\n",
        "    attachment_tr.add_header('Content-Disposition','attachment',filename=\"Termo_de_Referência.pdf\")\n",
        "    msg.attach(attachment_tem)\n",
        "    msg.attach(attachment_tr)\n",
        "\n",
        "    context = ssl.create_default_context()\n",
        "    with smtplib.SMTP(smtp_server, port) as server:\n",
        "        server.ehlo()  # Can be omitted\n",
        "        server.starttls(context=context)\n",
        "        server.ehlo()  # Can be omitted\n",
        "        server.login(msg['From'], password)\n",
        "        # rcpt = msg[\"Cc\"].split(\",\") + msg[\"Bcc\"].split(\",\") + [msg[\"To\"]]\n",
        "        server.sendmail(msg['From'], rcpt, msg.as_string())\n",
        "\n",
        "    pass\n",
        "\n",
        "# auto_send(\"23079.201396/2021-35\", \"/content/drive/MyDrive/Colab Notebooks/email_test.xlsx\")"
      ],
      "execution_count": null,
      "outputs": []
    }
  ]
}