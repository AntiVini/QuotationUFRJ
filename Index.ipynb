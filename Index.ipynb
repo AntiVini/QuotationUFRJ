{
  "nbformat": 4,
  "nbformat_minor": 0,
  "metadata": {
    "colab": {
      "name": "Index.ipynb",
      "provenance": [],
      "mount_file_id": "1JfLhy_zZPc07S-fDbFtF4eDM5IbxAUd2",
      "authorship_tag": "ABX9TyOl23JBZXQ8SSlgw661tzp/",
      "include_colab_link": true
    },
    "kernelspec": {
      "name": "python3",
      "display_name": "Python 3"
    }
  },
  "cells": [
    {
      "cell_type": "markdown",
      "metadata": {
        "id": "view-in-github",
        "colab_type": "text"
      },
      "source": [
        "<a href=\"https://colab.research.google.com/github/AntiVini/QuotationUFRJ/blob/my-painel/Index.ipynb\" target=\"_parent\"><img src=\"https://colab.research.google.com/assets/colab-badge.svg\" alt=\"Open In Colab\"/></a>"
      ]
    },
    {
      "cell_type": "markdown",
      "metadata": {
        "id": "rN3IX-IJgWpI"
      },
      "source": [
        "Projeto: Aplicar os projetos de painel de preços e fornecedores a todos os itens do termo de referência."
      ]
    },
    {
      "cell_type": "markdown",
      "metadata": {
        "id": "4qHJ4rkHgGJ2"
      },
      "source": [
        "Passos lógicos:\n",
        "\n",
        "\n",
        "1.   Perguntar e armazenar os dados necessários (qnt de itens, qnt de cada item, descrição de cada item);\n",
        "2.   Expandir a tabela para a quantidade de itens; \n",
        "3.   Localizar os relatórios do painel de preços e aplicar o projeto painel_precos a cada relatório;\n",
        "4.   Aplicar para cada item o projeto de fornecedores; \n",
        "5.   Aplicar para cada item o projeto de pesquisador de emails;\n",
        "6.   Salvar o mapa de apuração de preços modificado.\n",
        "\n",
        "\n",
        "Obs:\n",
        "\n",
        "*   Api key (antoniovinicius.sa) = ED08DE71696A47BFA8646A61F5E849F8\n",
        "*   Api key (vinicn2006) = 6DD31194DE894AB6B41C7ED1F9761A8E\n",
        "\n",
        "\n",
        "\n"
      ]
    },
    {
      "cell_type": "markdown",
      "metadata": {
        "id": "DG6M-O1GIBPQ"
      },
      "source": [
        "Passo 1:"
      ]
    },
    {
      "cell_type": "code",
      "metadata": {
        "id": "39Tq_2hVgQ7y",
        "colab": {
          "base_uri": "https://localhost:8080/",
          "height": 384
        },
        "outputId": "97607793-ff47-4bd6-8110-d2c671346419"
      },
      "source": [
        "# Importar as bibliotecas utilizadas no código\n",
        "\n",
        "from google.colab import drive\n",
        "drive.mount(\"/content/drive\", force_remount=True)\n",
        "\n",
        "import sys\n",
        "sys.path.append('/content/drive/MyDrive/Colab Notebooks')\n",
        "\n",
        "import painel2, fornecedor17, emailsniffer3, pandas as pd\n",
        "\n",
        "# Preenchimento do cabeçalho da tabela\n",
        "relatorio = pd.read_excel('/content/drive/MyDrive/Colab Notebooks/Cópia padrao de PP - Anexo V.xlsx')\n",
        "\n",
        "dados_itens = list()\n",
        "processo = input('Processo 23079.')\n",
        "dados_itens.append(processo) # dados_itens[0]\n",
        "objeto = input('Objeto: ')\n",
        "dados_itens.append(objeto) # dados_itens[1]\n",
        "total = int(input('Quantidade de itens TERMO DE REFERÊNCIA: '))\n",
        "dados_itens.append(total) # dados_itens[2]\n",
        "aumento = relatorio[:][5:9]\n",
        "relatorio = relatorio.drop([5, 6, 7, 8])\n",
        "\n",
        "# Informações de cada item constantes do termo de referência\n",
        "print('Quantidade e descrição de CADA item do TR:')\n",
        "for i in range(total):\n",
        "    qnt_item = int(input(f'Entre com a QUANTIDADE do item {i+1}:\\n'))\n",
        "    descricao_item = input(f'Entre com a DESCRIÇÃO do item {i+1}:\\n')\n",
        "    dados_itens.append({'quantidade':qnt_item, 'descricao':descricao_item}) # dados_itens[3:...]  \n",
        "    "
      ],
      "execution_count": 7,
      "outputs": [
        {
          "output_type": "stream",
          "text": [
            "Mounted at /content/drive\n"
          ],
          "name": "stdout"
        },
        {
          "output_type": "error",
          "ename": "ModuleNotFoundError",
          "evalue": "ignored",
          "traceback": [
            "\u001b[0;31m---------------------------------------------------------------------------\u001b[0m",
            "\u001b[0;31mModuleNotFoundError\u001b[0m                       Traceback (most recent call last)",
            "\u001b[0;32m<ipython-input-7-12abb8f4f7ce>\u001b[0m in \u001b[0;36m<module>\u001b[0;34m()\u001b[0m\n\u001b[1;32m      7\u001b[0m \u001b[0msys\u001b[0m\u001b[0;34m.\u001b[0m\u001b[0mpath\u001b[0m\u001b[0;34m.\u001b[0m\u001b[0mappend\u001b[0m\u001b[0;34m(\u001b[0m\u001b[0;34m'/content/drive/MyDrive/Colab Notebooks'\u001b[0m\u001b[0;34m)\u001b[0m\u001b[0;34m\u001b[0m\u001b[0;34m\u001b[0m\u001b[0m\n\u001b[1;32m      8\u001b[0m \u001b[0;34m\u001b[0m\u001b[0m\n\u001b[0;32m----> 9\u001b[0;31m \u001b[0;32mimport\u001b[0m \u001b[0mpainel2\u001b[0m\u001b[0;34m,\u001b[0m \u001b[0mfornecedor17\u001b[0m\u001b[0;34m,\u001b[0m \u001b[0memailsniffer3\u001b[0m\u001b[0;34m,\u001b[0m \u001b[0mpandas\u001b[0m \u001b[0;32mas\u001b[0m \u001b[0mpd\u001b[0m\u001b[0;34m\u001b[0m\u001b[0;34m\u001b[0m\u001b[0m\n\u001b[0m\u001b[1;32m     10\u001b[0m \u001b[0;34m\u001b[0m\u001b[0m\n\u001b[1;32m     11\u001b[0m \u001b[0;31m# Preenchimento do cabeçalho da tabela\u001b[0m\u001b[0;34m\u001b[0m\u001b[0;34m\u001b[0m\u001b[0;34m\u001b[0m\u001b[0m\n",
            "\u001b[0;31mModuleNotFoundError\u001b[0m: No module named 'painel2'",
            "",
            "\u001b[0;31m---------------------------------------------------------------------------\u001b[0;32m\nNOTE: If your import is failing due to a missing package, you can\nmanually install dependencies using either !pip or !apt.\n\nTo view examples of installing some common dependencies, click the\n\"Open Examples\" button below.\n\u001b[0;31m---------------------------------------------------------------------------\u001b[0m\n"
          ]
        }
      ]
    },
    {
      "cell_type": "markdown",
      "metadata": {
        "id": "ExcxC5-c-iQt"
      },
      "source": [
        "Passo 2:\n"
      ]
    },
    {
      "cell_type": "code",
      "metadata": {
        "id": "psflEc6o-kDT"
      },
      "source": [
        "for i in range(total-1):\n",
        "    relatorio = relatorio.append(aumento)\n",
        "\n",
        "relatorio.index = range(len(relatorio.index))\n",
        "\n",
        "for i in range(1, total+1):\n",
        "    relatorio[relatorio.columns[0]][4*(i-1)+1] = i\n",
        "    relatorio[relatorio.columns[1]][4*(i-1)+1] = dados_itens[i+2]['descricao']\n",
        "    relatorio[relatorio.columns[4]][4*(i-1)+1] = dados_itens[i+2]['quantidade']\n",
        "\n",
        "relatorio.rename(columns = {'PROCESSO 23079.XXXXXX/20XX-XX - OBJETO: __________________':'Processo 23079.' + processo + ' - OBJETO: ' + objeto}, inplace = True) \n",
        "\n",
        "relatorio.to_excel(r'/content/drive/MyDrive/Colab Notebooks/Cópia de PP - Anexo V.xlsx')\n"
      ],
      "execution_count": null,
      "outputs": []
    },
    {
      "cell_type": "markdown",
      "metadata": {
        "id": "a00smPrUR6r1"
      },
      "source": [
        "Passos 3 e 4:\n"
      ]
    },
    {
      "cell_type": "code",
      "metadata": {
        "id": "vKPQ-QA6R_hj"
      },
      "source": [
        "for i in range(total):\n",
        "  assunto, medida = painel2.valores_painel(f'/content/drive/MyDrive/Colab Notebooks/relatorio_painel ({i+1}).xlsx', i+1)\n",
        "  assunto = ''.join(assunto.replace(':', ' ').split(','))\n",
        "  assunto = medida + '' + assunto\n",
        "  assunto = input(f'Entre com os termos da pesquisa no google com base no item/serviço \\n({assunto}):\\n')\n",
        "  fornecedor17.pesquisa_google(assunto, i+1)\n",
        "  emailsniffer3.sniffer(f'/content/drive/MyDrive/Colab Notebooks/list_links_item_{i+1}.xlsx', i+1)\n",
        "  "
      ],
      "execution_count": null,
      "outputs": []
    }
  ]
}